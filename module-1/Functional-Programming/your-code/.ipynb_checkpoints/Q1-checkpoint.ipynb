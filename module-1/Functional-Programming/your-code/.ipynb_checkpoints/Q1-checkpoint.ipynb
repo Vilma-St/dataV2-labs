{
 "cells": [
  {
   "cell_type": "markdown",
   "metadata": {},
   "source": [
    "In the cell below, create a Python function that creates a Bag of Words.\n",
    "\n",
    "Requirements:\n",
    "\n",
    "1. Your function should accept the following parameters:\n",
    "    * `corpus` [REQUIRED] - list of strings.\n",
    "    * `stop_words` [OPTIONAL] - array of stop words. The default value is an empty array.\n",
    "\n",
    "1. Your function should return a Python object that contains the following:\n",
    "    * `bag_of_words` - array of strings of normalized unique words in the corpus.\n",
    "    * `term_freq` - array of the term-frequency vectors."
   ]
  },
  {
   "cell_type": "code",
   "execution_count": 11,
   "metadata": {},
   "outputs": [],
   "source": [
    "# a_corpus = ['Ironhack is Cool!', 'I love Ironhack', 'I am a student at Ironhack.']\n",
    "\n",
    "# Import required libraries\n",
    "\n",
    "import re\n",
    "\n",
    "# Define function\n",
    "\n",
    "def get_bow_from_docs(corpus, stop_words=[]):\n",
    "    # In the function, first define the variables you will use such as `corpus`, `bag_of_words`, and `term_freq`.\n",
    "    corp = corpus\n",
    "    bag_of_words = []\n",
    "    term_freq = []\n",
    "    \"\"\"\n",
    "    Convert corpus to lowercases and remove punctuation.\n",
    "    \"\"\"\n",
    "    i = 0\n",
    "    for i in range(len(corp)):        \n",
    "        corp[i] = re.sub('\\W', '', corp[i])\n",
    "        corp[i] = corp[i].lower()\n",
    "\n",
    "    \"\"\"\n",
    "    Loop `corpus`. Append the individual words in each [[sentence]] into the `bag_of_words` array. The terms in `bag_of_words` \n",
    "    should be unique which means before adding each term you need to check if it's already added to the array.\n",
    "    In addition, check if each term is in the `stop_words` array. Only append the term to `bag_of_words`\n",
    "    if it is not a stop word.\n",
    "    \"\"\"\n",
    "    bag_of_words_set = set()\n",
    "\n",
    "    j = 0\n",
    "    for j in range(len(corp)):\n",
    "        set_corp_part = set((corp[j]).split())\n",
    "        bag_of_words_set.update(set_corp_part)\n",
    "    \n",
    "    bag_of_words = list(bag_of_words_set)\n",
    "    \n",
    "    \"\"\"\n",
    "    Loop `corpus` again. For each doc string, count the number of occurrences of each term in `bag_of_words`. \n",
    "    Create an array for each doc's term frequency and append it to `term_freq`.\n",
    "    \"\"\"\n",
    "    k = 0\n",
    "    m = 0\n",
    "    for k in range(len(corp)):\n",
    "        for m in range(len(bag_of_words)):\n",
    "            prin(corp[k].count(bag_of_words[m]))\n",
    "            term_freq.append(corp[k].count(bag_of_words[m]))\n",
    "    \n",
    "    \n",
    "    # Now return your output as an object\n",
    "    return {\n",
    "        \"bag_of_words\": bag_of_words,\n",
    "        \"term_freq\": term_freq\n",
    "    }\n",
    "    "
   ]
  },
  {
   "cell_type": "markdown",
   "metadata": {},
   "source": [
    "Test your function without stop words. You should see the output like below:\n",
    "\n",
    "```{'bag_of_words': ['ironhack', 'is', 'cool', 'i', 'love', 'am', 'a', 'student', 'at'], 'term_freq': [[1, 1, 1, 0, 0, 0, 0, 0, 0], [1, 0, 0, 1, 1, 0, 0, 0, 0], [1, 0, 0, 1, 0, 1, 1, 1, 1]]}```"
   ]
  },
  {
   "cell_type": "code",
   "execution_count": 34,
   "metadata": {},
   "outputs": [
    {
     "name": "stdout",
     "output_type": "stream",
     "text": [
      "['ironhack is cool ', 'i love ironhack', 'i am a student at ironhack ']\n",
      "bag_of_words:  ['i', 'am', 'student', 'a', 'love', 'ironhack', 'at', 'cool', 'is']\n",
      "Corp_nested:  [['ironhack', 'is', 'cool'], ['i', 'love', 'ironhack'], ['i', 'am', 'a', 'student', 'at', 'ironhack']]\n",
      "9\n",
      "3\n",
      "['0', '1', '1', '0', '0', '1', '0', '0', '1', '0', '0', '1', '0', '1', '0', '1', '1', '1', '0', '0', '1', '1', '0', '0', '1', '0', '0']\n"
     ]
    }
   ],
   "source": [
    "# Define the corpus list\n",
    "a_corpus = ['Ironhack is Cool!', 'I love Ironhack', 'I am a student at Ironhack.']\n",
    "\n",
    "import re\n",
    "\n",
    "corp = a_corpus\n",
    "i = 0\n",
    "for i in range(len(corp)):        \n",
    "    corp[i] = re.sub('\\W', ' ', corp[i])\n",
    "    corp[i] = corp[i].lower()\n",
    "\n",
    "print(corp)\n",
    "\n",
    "bag_of_words_set = set()\n",
    "\n",
    "j = 0\n",
    "\n",
    "for j in range(len(corp)):\n",
    "    set_corp_part = set((corp[j]).split())\n",
    "#     print(set_corp_part)\n",
    "    bag_of_words_set.update(set_corp_part)\n",
    "\n",
    "bag_of_words = list(bag_of_words_set)\n",
    "print(\"bag_of_words: \", bag_of_words)\n",
    "\n",
    "\"\"\"\n",
    "corp = ['ironhack is cool ', 'i love ironhack', 'i am a student at ironhack ']\n",
    "\n",
    "bag_of_words': ['ironhack', 'is', 'cool', 'i', 'love', 'am', 'a', 'student', 'at']\n",
    "\"\"\"\n",
    "k=0\n",
    "corp_nested = []\n",
    "\n",
    "for k in range(len(corp)):\n",
    "    corp_part = (corp[k]).split()\n",
    "    corp_nested.append(corp_part)\n",
    "\n",
    "print(\"Corp_nested: \", corp_nested)\n",
    "\n",
    "term_freq = []\n",
    "term_freq_sublist = []\n",
    "m = 0\n",
    "n = 0\n",
    "\n",
    "print(len(bag_of_words))\n",
    "print(len(corp_nested))\n",
    "\n",
    "for n in range(len(bag_of_words)):\n",
    "    for m in range(len(corp_nested)):\n",
    "        if bag_of_words[n] in corp_nested[m]:\n",
    "            term_freq_sublist.append('1')\n",
    "        else:\n",
    "            term_freq_sublist.append('0')\n",
    "\n",
    "print(term_freq_sublist)\n",
    "\n",
    "\n",
    "\n",
    "\n",
    "\n",
    "# Obtain BoW from your function\n",
    "#bow = get_bow_from_docs(a_corpus)\n",
    "\n",
    "# Print BoW\n",
    "# print(bow)"
   ]
  },
  {
   "cell_type": "markdown",
   "metadata": {},
   "source": [
    "If your attempt above is successful, nice work done!\n",
    "\n",
    "Now test your function again with the stop words. In the previous lab we defined the stop words in a large array. In this lab, we'll import the stop words from Scikit-Learn."
   ]
  },
  {
   "cell_type": "code",
   "execution_count": null,
   "metadata": {},
   "outputs": [],
   "source": [
    "from sklearn.feature_extraction import stop_words\n",
    "print(stop_words.ENGLISH_STOP_WORDS)"
   ]
  },
  {
   "cell_type": "markdown",
   "metadata": {},
   "source": [
    "You should have seen a large list of words that looks like:\n",
    "\n",
    "```frozenset({'across', 'mine', 'cannot', ...})```\n",
    "\n",
    "`frozenset` is a type of Python object that is immutable. In this lab you can use it just like an array (list) without conversion."
   ]
  },
  {
   "cell_type": "markdown",
   "metadata": {},
   "source": [
    "Next, test your function with supplying `stop_words.ENGLISH_STOP_WORDS` as the second parameter."
   ]
  },
  {
   "cell_type": "code",
   "execution_count": null,
   "metadata": {},
   "outputs": [],
   "source": [
    "bow = get_bow_from_docs(bow, stop_words.ENGLISH_STOP_WORDS)\n",
    "\n",
    "print(bow)"
   ]
  },
  {
   "cell_type": "markdown",
   "metadata": {},
   "source": [
    "You should have seen:\n",
    "\n",
    "```{'bag_of_words': ['ironhack', 'cool', 'love', 'student'], 'term_freq': [[1, 1, 0, 0], [1, 0, 1, 0], [1, 0, 0, 1]]}```"
   ]
  },
  {
   "cell_type": "code",
   "execution_count": null,
   "metadata": {},
   "outputs": [],
   "source": []
  }
 ],
 "metadata": {
  "kernelspec": {
   "display_name": "Python 3",
   "language": "python",
   "name": "python3"
  },
  "language_info": {
   "codemirror_mode": {
    "name": "ipython",
    "version": 3
   },
   "file_extension": ".py",
   "mimetype": "text/x-python",
   "name": "python",
   "nbconvert_exporter": "python",
   "pygments_lexer": "ipython3",
   "version": "3.7.7"
  }
 },
 "nbformat": 4,
 "nbformat_minor": 2
}
