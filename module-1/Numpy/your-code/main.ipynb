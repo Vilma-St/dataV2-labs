{
 "cells": [
  {
   "cell_type": "markdown",
   "metadata": {},
   "source": [
    "# Introduction to NumPy\n",
    "\n",
    "\n",
    "#### 1. Import NumPy under the name np."
   ]
  },
  {
   "cell_type": "code",
   "execution_count": 1,
   "metadata": {},
   "outputs": [
    {
     "name": "stdout",
     "output_type": "stream",
     "text": [
      "Requirement already satisfied: numpy in /usr/local/Cellar/jupyterlab/2.0.1/libexec/lib/python3.7/site-packages (1.18.4)\n",
      "Requirement already up-to-date: pip in /usr/local/Cellar/jupyterlab/2.0.1/libexec/lib/python3.7/site-packages (20.1)\n"
     ]
    }
   ],
   "source": [
    "# your code here\n",
    "\n",
    "# Install a pip package in the current Jupyter kernel\n",
    "import sys\n",
    "!{sys.executable} -m pip install numpy\n",
    "!{sys.executable} -m pip install --upgrade pip\n",
    "\n",
    "import numpy as np"
   ]
  },
  {
   "cell_type": "markdown",
   "metadata": {},
   "source": [
    "#### 2. Print your NumPy version."
   ]
  },
  {
   "cell_type": "code",
   "execution_count": 2,
   "metadata": {},
   "outputs": [
    {
     "data": {
      "text/plain": [
       "<module 'numpy.version' from '/usr/local/Cellar/jupyterlab/2.0.1/libexec/lib/python3.7/site-packages/numpy/version.py'>"
      ]
     },
     "execution_count": 2,
     "metadata": {},
     "output_type": "execute_result"
    }
   ],
   "source": [
    "# your code here\n",
    "\n",
    "np.version"
   ]
  },
  {
   "cell_type": "markdown",
   "metadata": {},
   "source": [
    "#### 3. Generate a 2x3x5 3-dimensional array with random values. Assign the array to variable *a*.\n",
    "**Challenge**: there are at least three easy ways that use numpy to generate random arrays. How many ways can you find?"
   ]
  },
  {
   "cell_type": "code",
   "execution_count": 3,
   "metadata": {},
   "outputs": [
    {
     "name": "stdout",
     "output_type": "stream",
     "text": [
      "[[[0.1344652  0.86197395 0.28119084 0.37715705 0.9279015 ]\n",
      "  [0.68712173 0.70092913 0.61578695 0.66233873 0.45475793]\n",
      "  [0.9358892  0.86362963 0.04855443 0.8926662  0.81468611]]\n",
      "\n",
      " [[0.65039646 0.89792442 0.29127957 0.4409727  0.89139698]\n",
      "  [0.80287446 0.90451471 0.59023978 0.32431046 0.89363865]\n",
      "  [0.43891235 0.10292871 0.57883508 0.78049376 0.24549723]]]\n"
     ]
    }
   ],
   "source": [
    "# Method 1\n",
    "# Return random floats in the half-open interval [0.0, 1.0).\n",
    "\n",
    "a = np.random.random((2,3,5))\n",
    "\n",
    "print(a)"
   ]
  },
  {
   "cell_type": "code",
   "execution_count": 29,
   "metadata": {},
   "outputs": [
    {
     "name": "stdout",
     "output_type": "stream",
     "text": [
      "[[[0.20398046 0.99231524 0.51294299 0.79694752 0.84391335]\n",
      "  [0.08780005 0.37535425 0.81350989 0.49727008 0.01938208]\n",
      "  [0.36463553 0.88006261 0.20755586 0.75390633 0.44352492]]\n",
      "\n",
      " [[0.93512458 0.91378563 0.45780157 0.81274896 0.09131239]\n",
      "  [0.57597355 0.5014077  0.24610553 0.29370798 0.19673023]\n",
      "  [0.05074222 0.38950173 0.75055057 0.19967758 0.77286544]]]\n"
     ]
    }
   ],
   "source": [
    "# Method 2\n",
    "# Create an array of the given shape and propagate it with random samples from a uniform distribution over [0, 1).\n",
    "\n",
    "k = np.random.rand(2,3,5)\n",
    "\n",
    "print(k)"
   ]
  },
  {
   "cell_type": "code",
   "execution_count": 33,
   "metadata": {},
   "outputs": [
    {
     "name": "stdout",
     "output_type": "stream",
     "text": [
      "[[[8 1 8 9 5]\n",
      "  [5 4 0 6 8]\n",
      "  [4 7 7 0 0]]\n",
      "\n",
      " [[3 6 5 8 9]\n",
      "  [9 3 9 0 8]\n",
      "  [5 8 8 2 2]]]\n"
     ]
    }
   ],
   "source": [
    "# Method 3\n",
    "# Create an array of random integers in [0, 10)\n",
    "\n",
    "m = np.random.randint(10, size=(2,3,5))\n",
    "\n",
    "print(m)"
   ]
  },
  {
   "cell_type": "markdown",
   "metadata": {},
   "source": [
    "#### 4. Print *a*.\n"
   ]
  },
  {
   "cell_type": "code",
   "execution_count": 6,
   "metadata": {},
   "outputs": [
    {
     "name": "stdout",
     "output_type": "stream",
     "text": [
      "[[[0.1344652  0.86197395 0.28119084 0.37715705 0.9279015 ]\n",
      "  [0.68712173 0.70092913 0.61578695 0.66233873 0.45475793]\n",
      "  [0.9358892  0.86362963 0.04855443 0.8926662  0.81468611]]\n",
      "\n",
      " [[0.65039646 0.89792442 0.29127957 0.4409727  0.89139698]\n",
      "  [0.80287446 0.90451471 0.59023978 0.32431046 0.89363865]\n",
      "  [0.43891235 0.10292871 0.57883508 0.78049376 0.24549723]]]\n"
     ]
    }
   ],
   "source": [
    "# your code here\n",
    "\n",
    "print(a)"
   ]
  },
  {
   "cell_type": "markdown",
   "metadata": {},
   "source": [
    "#### 5. Create a 5x2x3 3-dimensional array with all values equaling 1. Assign the array to variable *b*."
   ]
  },
  {
   "cell_type": "code",
   "execution_count": 7,
   "metadata": {},
   "outputs": [],
   "source": [
    "# your code here\n",
    "\n",
    "b = np.full((5, 2, 3), 1)"
   ]
  },
  {
   "cell_type": "markdown",
   "metadata": {},
   "source": [
    "#### 6. Print *b*.\n"
   ]
  },
  {
   "cell_type": "code",
   "execution_count": 8,
   "metadata": {},
   "outputs": [
    {
     "name": "stdout",
     "output_type": "stream",
     "text": [
      "[[[1 1 1]\n",
      "  [1 1 1]]\n",
      "\n",
      " [[1 1 1]\n",
      "  [1 1 1]]\n",
      "\n",
      " [[1 1 1]\n",
      "  [1 1 1]]\n",
      "\n",
      " [[1 1 1]\n",
      "  [1 1 1]]\n",
      "\n",
      " [[1 1 1]\n",
      "  [1 1 1]]]\n"
     ]
    }
   ],
   "source": [
    "# your code here\n",
    "print(b)"
   ]
  },
  {
   "cell_type": "markdown",
   "metadata": {},
   "source": [
    "#### 7. Do *a* and *b* have the same size? How do you prove that in Python code?"
   ]
  },
  {
   "cell_type": "code",
   "execution_count": 9,
   "metadata": {},
   "outputs": [
    {
     "name": "stdout",
     "output_type": "stream",
     "text": [
      "True\n"
     ]
    }
   ],
   "source": [
    "# your code here\n",
    "\n",
    "print(a.size == b.size)"
   ]
  },
  {
   "cell_type": "markdown",
   "metadata": {},
   "source": [
    "#### 8. Are you able to add *a* and *b*? Why or why not?\n"
   ]
  },
  {
   "cell_type": "code",
   "execution_count": 10,
   "metadata": {},
   "outputs": [
    {
     "name": "stdout",
     "output_type": "stream",
     "text": [
      "a shape, b shape respectively:  (2, 3, 5) (5, 2, 3)\n"
     ]
    }
   ],
   "source": [
    "# your answer here\n",
    "\n",
    "# The arrays have different shapes\n",
    "print(\"a shape, b shape respectively: \", a.shape, b.shape)"
   ]
  },
  {
   "cell_type": "code",
   "execution_count": 11,
   "metadata": {},
   "outputs": [
    {
     "ename": "ValueError",
     "evalue": "operands could not be broadcast together with shapes (2,3,5) (5,2,3) ",
     "output_type": "error",
     "traceback": [
      "\u001b[0;31m---------------------------------------------------------------------------\u001b[0m",
      "\u001b[0;31mValueError\u001b[0m                                Traceback (most recent call last)",
      "\u001b[0;32m<ipython-input-11-178c8efb3d6b>\u001b[0m in \u001b[0;36m<module>\u001b[0;34m\u001b[0m\n\u001b[0;32m----> 1\u001b[0;31m \u001b[0mprint\u001b[0m\u001b[0;34m(\u001b[0m\u001b[0mnp\u001b[0m\u001b[0;34m.\u001b[0m\u001b[0madd\u001b[0m\u001b[0;34m(\u001b[0m\u001b[0ma\u001b[0m\u001b[0;34m,\u001b[0m \u001b[0mb\u001b[0m\u001b[0;34m)\u001b[0m\u001b[0;34m)\u001b[0m\u001b[0;34m\u001b[0m\u001b[0;34m\u001b[0m\u001b[0m\n\u001b[0m",
      "\u001b[0;31mValueError\u001b[0m: operands could not be broadcast together with shapes (2,3,5) (5,2,3) "
     ]
    }
   ],
   "source": [
    "print(np.add(a, b))"
   ]
  },
  {
   "cell_type": "markdown",
   "metadata": {},
   "source": [
    "#### 9. Transpose *b* so that it has the same structure of *a* (i.e. become a 2x3x5 array). Assign the transposed array to variable *c*."
   ]
  },
  {
   "cell_type": "code",
   "execution_count": 12,
   "metadata": {},
   "outputs": [
    {
     "name": "stdout",
     "output_type": "stream",
     "text": [
      "c shape (2, 3, 5)\n",
      "[[[1 1 1 1 1]\n",
      "  [1 1 1 1 1]\n",
      "  [1 1 1 1 1]]\n",
      "\n",
      " [[1 1 1 1 1]\n",
      "  [1 1 1 1 1]\n",
      "  [1 1 1 1 1]]]\n"
     ]
    }
   ],
   "source": [
    "# your code here\n",
    "\n",
    "c = b.reshape(2,3,5)\n",
    "print(\"c shape\", c.shape)\n",
    "print(c)"
   ]
  },
  {
   "cell_type": "markdown",
   "metadata": {},
   "source": [
    "#### 10. Try to add *a* and *c*. Now it should work. Assign the sum to variable *d*. But why does it work now?"
   ]
  },
  {
   "cell_type": "code",
   "execution_count": 13,
   "metadata": {},
   "outputs": [],
   "source": [
    "# your code/answer here\n",
    "\n",
    "d = np.add(a, c)"
   ]
  },
  {
   "cell_type": "markdown",
   "metadata": {},
   "source": [
    "#### 11. Print *a* and *d*. Notice the difference and relation of the two array in terms of the values? Explain."
   ]
  },
  {
   "cell_type": "code",
   "execution_count": 14,
   "metadata": {},
   "outputs": [
    {
     "name": "stdout",
     "output_type": "stream",
     "text": [
      "Array a : \n",
      " [[[0.1344652  0.86197395 0.28119084 0.37715705 0.9279015 ]\n",
      "  [0.68712173 0.70092913 0.61578695 0.66233873 0.45475793]\n",
      "  [0.9358892  0.86362963 0.04855443 0.8926662  0.81468611]]\n",
      "\n",
      " [[0.65039646 0.89792442 0.29127957 0.4409727  0.89139698]\n",
      "  [0.80287446 0.90451471 0.59023978 0.32431046 0.89363865]\n",
      "  [0.43891235 0.10292871 0.57883508 0.78049376 0.24549723]]] \n",
      "\n",
      " Array d : \n",
      " [[[1.1344652  1.86197395 1.28119084 1.37715705 1.9279015 ]\n",
      "  [1.68712173 1.70092913 1.61578695 1.66233873 1.45475793]\n",
      "  [1.9358892  1.86362963 1.04855443 1.8926662  1.81468611]]\n",
      "\n",
      " [[1.65039646 1.89792442 1.29127957 1.4409727  1.89139698]\n",
      "  [1.80287446 1.90451471 1.59023978 1.32431046 1.89363865]\n",
      "  [1.43891235 1.10292871 1.57883508 1.78049376 1.24549723]]]\n"
     ]
    }
   ],
   "source": [
    "# your code/answer here\n",
    "print(\"Array a : \\n\", a, \"\\n\\n Array d : \\n\", d)\n",
    "\n",
    "# Each value in the array a is the one from array a +1."
   ]
  },
  {
   "cell_type": "markdown",
   "metadata": {},
   "source": [
    "#### 12. Multiply *a* and *c*. Assign the result to *e*."
   ]
  },
  {
   "cell_type": "code",
   "execution_count": 15,
   "metadata": {},
   "outputs": [],
   "source": [
    "# your code here\n",
    "e = np.multiply(a, c)"
   ]
  },
  {
   "cell_type": "markdown",
   "metadata": {},
   "source": [
    "#### 13. Does *e* equal to *a*? Why or why not?\n"
   ]
  },
  {
   "cell_type": "code",
   "execution_count": 16,
   "metadata": {},
   "outputs": [
    {
     "data": {
      "text/plain": [
       "array([[[ True,  True,  True,  True,  True],\n",
       "        [ True,  True,  True,  True,  True],\n",
       "        [ True,  True,  True,  True,  True]],\n",
       "\n",
       "       [[ True,  True,  True,  True,  True],\n",
       "        [ True,  True,  True,  True,  True],\n",
       "        [ True,  True,  True,  True,  True]]])"
      ]
     },
     "execution_count": 16,
     "metadata": {},
     "output_type": "execute_result"
    }
   ],
   "source": [
    "# your code/answer here\n",
    "\n",
    "a == e\n",
    "\n",
    "# Multiplication by 1 does not change the value."
   ]
  },
  {
   "cell_type": "markdown",
   "metadata": {},
   "source": [
    "#### 14. Identify the max, min, and mean values in *d*. Assign those values to variables *d_max*, *d_min* and *d_mean*."
   ]
  },
  {
   "cell_type": "code",
   "execution_count": 17,
   "metadata": {},
   "outputs": [
    {
     "name": "stdout",
     "output_type": "stream",
     "text": [
      "1.9358891964745135 1.0485544333452452 1.6031087965340547\n"
     ]
    }
   ],
   "source": [
    "# your code here\n",
    "\n",
    "print(np.max(d), np.min(d), np.mean(d))\n",
    "\n",
    "d_max = np.max(d) \n",
    "d_min = np.min(d)\n",
    "d_mean = np.mean(d)"
   ]
  },
  {
   "cell_type": "markdown",
   "metadata": {},
   "source": [
    "#### 15. Now we want to label the values in *d*. First create an empty array *f* with the same shape (i.e. 2x3x5) as *d* using `np.empty`.\n"
   ]
  },
  {
   "cell_type": "code",
   "execution_count": 18,
   "metadata": {},
   "outputs": [],
   "source": [
    "# your code here\n",
    "\n",
    "f = np.empty((2,3,5))"
   ]
  },
  {
   "cell_type": "markdown",
   "metadata": {},
   "source": [
    "#### 16. Populate the values in *f*. \n",
    "\n",
    "For each value in *d*, if it's larger than *d_min* but smaller than *d_mean*, assign 25 to the corresponding value in *f*. If a value in *d* is larger than *d_mean* but smaller than *d_max*, assign 75 to the corresponding value in *f*. If a value equals to *d_mean*, assign 50 to the corresponding value in *f*. Assign 0 to the corresponding value(s) in *f* for *d_min* in *d*. Assign 100 to the corresponding value(s) in *f* for *d_max* in *d*. In the end, f should have only the following values: 0, 25, 50, 75, and 100.\n",
    "\n",
    "**Note**: you don't have to use Numpy in this question."
   ]
  },
  {
   "cell_type": "code",
   "execution_count": 19,
   "metadata": {},
   "outputs": [],
   "source": [
    "# your code here\n",
    "\n",
    "# The order of assigning values is important, e.g. max value first gets assigned 75, then 100.\n",
    "# The alternative would be to add double condition (between min and mean, etc.)\n",
    "\n",
    "f[d > d_mean] = 75\n",
    "f[d < d_mean] = 25\n",
    "f[d == d_max] = 100\n",
    "f[d == d_mean] = 50\n",
    "f[d == d_min] = 0"
   ]
  },
  {
   "cell_type": "markdown",
   "metadata": {},
   "source": [
    "#### 17. Print *d* and *f*. Do you have your expected *f*?\n",
    "For instance, if your *d* is:\n",
    "```python\n",
    "[[[1.85836099, 1.67064465, 1.62576044, 1.40243961, 1.88454931],\n",
    "[1.75354326, 1.69403643, 1.36729252, 1.61415071, 1.12104981],\n",
    "[1.72201435, 1.1862918 , 1.87078449, 1.7726778 , 1.88180042]],\n",
    "[[1.44747908, 1.31673383, 1.02000951, 1.52218947, 1.97066381],\n",
    "[1.79129243, 1.74983003, 1.96028037, 1.85166831, 1.65450881],\n",
    "[1.18068344, 1.9587381 , 1.00656599, 1.93402165, 1.73514584]]]\n",
    "```\n",
    "Your *f* should be:\n",
    "```python\n",
    "[[[ 75.,  75.,  75.,  25.,  75.],\n",
    "[ 75.,  75.,  25.,  25.,  25.],\n",
    "[ 75.,  25.,  75.,  75.,  75.]],\n",
    "[[ 25.,  25.,  25.,  25., 100.],\n",
    "[ 75.,  75.,  75.,  75.,  75.],\n",
    "[ 25.,  75.,   0.,  75.,  75.]]]\n",
    "```"
   ]
  },
  {
   "cell_type": "code",
   "execution_count": 20,
   "metadata": {},
   "outputs": [
    {
     "name": "stdout",
     "output_type": "stream",
     "text": [
      "Array d: \n",
      " [[[1.1344652  1.86197395 1.28119084 1.37715705 1.9279015 ]\n",
      "  [1.68712173 1.70092913 1.61578695 1.66233873 1.45475793]\n",
      "  [1.9358892  1.86362963 1.04855443 1.8926662  1.81468611]]\n",
      "\n",
      " [[1.65039646 1.89792442 1.29127957 1.4409727  1.89139698]\n",
      "  [1.80287446 1.90451471 1.59023978 1.32431046 1.89363865]\n",
      "  [1.43891235 1.10292871 1.57883508 1.78049376 1.24549723]]]\n",
      "Array f: \n",
      " [[[ 25.  75.  25.  25.  75.]\n",
      "  [ 75.  75.  75.  75.  25.]\n",
      "  [100.  75.   0.  75.  75.]]\n",
      "\n",
      " [[ 75.  75.  25.  25.  75.]\n",
      "  [ 75.  75.  25.  25.  75.]\n",
      "  [ 25.  25.  25.  75.  25.]]]\n"
     ]
    }
   ],
   "source": [
    "# your code here\n",
    "\n",
    "print(\"Array d: \\n\", d)\n",
    "print(\"Array f: \\n\", f)"
   ]
  },
  {
   "cell_type": "markdown",
   "metadata": {},
   "source": [
    "#### 18. Bonus question: instead of using numbers (i.e. 0, 25, 50, 75, and 100), use string values  (\"A\", \"B\", \"C\", \"D\", and \"E\") to label the array elements. For the example above, the expected result is:\n",
    "\n",
    "```python\n",
    "[[[ 'D',  'D',  'D',  'B',  'D'],\n",
    "[ 'D',  'D',  'B',  'B',  'B'],\n",
    "[ 'D',  'B',  'D',  'D',  'D']],\n",
    "[[ 'B',  'B',  'B',  'B',  'E'],\n",
    "[ 'D',  'D',  'D',  'D',  'D'],\n",
    "[ 'B',  'D',   'A',  'D', 'D']]]\n",
    "```\n",
    "**Note**: you don't have to use Numpy in this question."
   ]
  },
  {
   "cell_type": "code",
   "execution_count": 35,
   "metadata": {},
   "outputs": [
    {
     "data": {
      "text/plain": [
       "[[[25.0, 75.0, 25.0, 25.0, 75.0],\n",
       "  [75.0, 75.0, 75.0, 75.0, 25.0],\n",
       "  [100.0, 75.0, 0.0, 75.0, 75.0]],\n",
       " [[75.0, 75.0, 25.0, 25.0, 75.0],\n",
       "  [75.0, 75.0, 25.0, 25.0, 75.0],\n",
       "  [25.0, 25.0, 25.0, 75.0, 25.0]]]"
      ]
     },
     "execution_count": 35,
     "metadata": {},
     "output_type": "execute_result"
    }
   ],
   "source": [
    "# your code here\n",
    "\n",
    "# I suppose I could convert f to a list, turn floats to strings,  and then reassign the values in the loop. (not finished)\n",
    "\n",
    "f_list = f.tolist()\n",
    "f_list"
   ]
  },
  {
   "cell_type": "code",
   "execution_count": null,
   "metadata": {},
   "outputs": [],
   "source": []
  },
  {
   "cell_type": "code",
   "execution_count": null,
   "metadata": {},
   "outputs": [],
   "source": []
  }
 ],
 "metadata": {
  "kernelspec": {
   "display_name": "Python 3",
   "language": "python",
   "name": "python3"
  },
  "language_info": {
   "codemirror_mode": {
    "name": "ipython",
    "version": 3
   },
   "file_extension": ".py",
   "mimetype": "text/x-python",
   "name": "python",
   "nbconvert_exporter": "python",
   "pygments_lexer": "ipython3",
   "version": "3.7.7"
  }
 },
 "nbformat": 4,
 "nbformat_minor": 2
}
